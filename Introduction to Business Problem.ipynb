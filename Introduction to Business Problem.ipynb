{
 "cells": [
  {
   "cell_type": "markdown",
   "metadata": {},
   "source": [
    "#### This notebook file presents the \"Introduciton \\ Business Problem\" to the Capstone Project using the Foursquare API.\n",
    "\n",
    "\n",
    "## Introduction\n",
    "A recent study has revelaed that the **success of a business can be determined even before a business has started its operations**. A major determinant of business success is the selection of the location. It is common knowledge that starting a \"Ferrari\" showroom on a university campus will not yeild the expected returns. A business needs to decide on the best location taking into account factors such as:\n",
    "\n",
    "**Customers** - is the location convenient for customers?\n",
    "\n",
    "**Staff** - are there sufficient numbers of local staff with the right skills willing to work at the right wage?\n",
    "\n",
    "**Support services** - are there services offering specialist advice, training and support?\n",
    "\n",
    "**Cost** - how much will the premises cost? Those situated in prime locations (such as city centres) are far more expensive to rent than edge-of-town premises.\n",
    "\n",
    "**Infrastructure and Economy of Scale** - All businesses need proper infrastructure to function e.g. a telephone company would need an electricity meter, fast internet and customer access to function.\n",
    "\n",
    "**Logistics** - In order to bring in raw materials and ship out finished goods, a business must have acces to roads, rails and other means of transport.\n",
    "\n",
    "**Government Facilitation** - It is desirable to select places where the government has announced tax holidays and rebates on conducting and starting businesses.\n",
    "\n",
    "**Resource** - It is utterly important that the business has the services of the best minds to function and expand. A business must be started in a place where the required human capital is available abundantly.\n",
    "\n",
    "\n",
    "## Business Problem\n",
    "Currently an aspiring business must undertake an extensive, time consuming and exhausting practice to decide on a location to start the operations. Many a times, the exercise is not undertaken seriously because of the effort involved. The result is a business, which has a promising product but due to a bad selection of site operations, the business fails.\n",
    "**The aim of this project is to address the issue of selection of the best location for starting a cafeteria business and reduce the time and effort that is put in addressing this issue. We will try to select a location keeping in mind all the above parameters. A location which satisfies most items can be selected to run a cafeteria business.**"
   ]
  },
  {
   "cell_type": "code",
   "execution_count": null,
   "metadata": {},
   "outputs": [],
   "source": []
  }
 ],
 "metadata": {
  "kernelspec": {
   "display_name": "Python 3",
   "language": "python",
   "name": "python3"
  },
  "language_info": {
   "codemirror_mode": {
    "name": "ipython",
    "version": 3
   },
   "file_extension": ".py",
   "mimetype": "text/x-python",
   "name": "python",
   "nbconvert_exporter": "python",
   "pygments_lexer": "ipython3",
   "version": "3.7.4"
  }
 },
 "nbformat": 4,
 "nbformat_minor": 2
}
