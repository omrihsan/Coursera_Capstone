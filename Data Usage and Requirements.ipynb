{
 "cells": [
  {
   "cell_type": "code",
   "execution_count": 4,
   "metadata": {},
   "outputs": [],
   "source": [
    "from IPython.display import Image"
   ]
  },
  {
   "cell_type": "markdown",
   "metadata": {},
   "source": [
    "#### This notebook file presents the \"Data\" that will be used address the Business Problem.\n",
    "\n",
    "## Data Usage and Requirements\n",
    "We will make use of calls to the **Foursquare API** using a URL (consisting of the Foursquare credentals and version information) to send a request to the API to search for a specific types of venues, to explore a particular venue, to explore a geographical location, and to get trending venues around a location.\n",
    "\n",
    "The fetched **JSON files** will be converted to **pandas dataframes** for data manipulation and exploratory data analysis. We will use the **Folium** library to visualize the results."
   ]
  },
  {
   "cell_type": "markdown",
   "metadata": {},
   "source": [
    "New York Neighborhood has a total of **5 boroughs**. We will get the data on the Income Distribution of the New York City boroughs which is hosted by the **Zicklin School of Business** at https://www.baruch.cuny.edu/nycdata/income-taxes/med_hhold_income.htm.\n",
    "\n",
    "After analyzing the data we will select only the Highest Purchasing Power (Highest Income Households) District to be analyzed further as we are interested in selecting a location with good amount of consumers’ footfall who can afford the product and where the cost of doing business is optimum."
   ]
  },
  {
   "cell_type": "code",
   "execution_count": 6,
   "metadata": {},
   "outputs": [
    {
     "data": {
      "text/html": [
       "<img src=\"https://upload.wikimedia.org/wikipedia/commons/3/34/5_Boroughs_Labels_New_York_City_Map.svg\"/>"
      ],
      "text/plain": [
       "<IPython.core.display.Image object>"
      ]
     },
     "execution_count": 6,
     "metadata": {},
     "output_type": "execute_result"
    }
   ],
   "source": [
    "Image(url='https://upload.wikimedia.org/wikipedia/commons/3/34/5_Boroughs_Labels_New_York_City_Map.svg')"
   ]
  },
  {
   "cell_type": "markdown",
   "metadata": {},
   "source": [
    "We will be relying on the Foursqure API to get nieghborhood location data of existing cafes, resturants, bars and other attractions in Newyork City. We will sort the data according to the popularity, tips, customer reviews and ratings. Then we will study the neighborhood of these locations. After that we will make a **dataframe consisting of 25 of the most successful cafes in the Highest Income borough in New York City**.\n",
    "\n",
    "\n",
    "We will use the **EXPLORE URL for Foursqare API** calls and get a list of buildings, activities and attractions around the locations and correlate which of these compliments the location of a cafe."
   ]
  },
  {
   "cell_type": "markdown",
   "metadata": {},
   "source": [
    "After the dataframe for the 25 cafes along with the nearby attractions is complete, we will randomly study 5 different locations in New York City and judge which of the locations is most suitable to open a cafe business.\n",
    "For this we will be using a **Classification Machine Learning algorithm** such as KNN or Decision Tree to first classify the location as 'FIT' or 'UNFIT' to set up a cafe.\n",
    "\n",
    "Further we can rate the locations based on different classification scores. Looking at the **Classification Matrix**, **F1 Scrore**, **Jacarrd Matrix** etc, we will finalize a location to set up our cafe."
   ]
  },
  {
   "cell_type": "code",
   "execution_count": null,
   "metadata": {},
   "outputs": [],
   "source": []
  }
 ],
 "metadata": {
  "kernelspec": {
   "display_name": "Python 3",
   "language": "python",
   "name": "python3"
  },
  "language_info": {
   "codemirror_mode": {
    "name": "ipython",
    "version": 3
   },
   "file_extension": ".py",
   "mimetype": "text/x-python",
   "name": "python",
   "nbconvert_exporter": "python",
   "pygments_lexer": "ipython3",
   "version": "3.7.4"
  }
 },
 "nbformat": 4,
 "nbformat_minor": 2
}
